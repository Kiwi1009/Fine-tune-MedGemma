{
 "cells": [
  {
   "cell_type": "code",
   "execution_count": null,
   "id": "3c05c444",
   "metadata": {},
   "outputs": [],
   "source": [
    "# Install required libraries\n",
    "%pip install -q torch transformers peft bitsandbytes trl datasets pandas accelerate\n",
    "\n",
    "# Install specific version for compatibility\n",
    "%pip install -q -U transformers==4.44.0\n"
   ]
  },
  {
   "cell_type": "code",
   "execution_count": null,
   "id": "64811eba",
   "metadata": {},
   "outputs": [],
   "source": [
    "import torch\n",
    "import pandas as pd\n",
    "import os\n",
    "from transformers import (\n",
    "    AutoModelForCausalLM,\n",
    "    AutoTokenizer,\n",
    "    BitsAndBytesConfig,\n",
    "    TrainingArguments,\n",
    "    pipeline\n",
    ")\n",
    "from peft import LoraConfig, get_peft_model, TaskType, PeftModel\n",
    "from datasets import Dataset\n",
    "from trl import SFTTrainer\n",
    "import warnings\n",
    "warnings.filterwarnings('ignore')\n",
    "\n",
    "# Check GPU availability\n",
    "if torch.cuda.is_available():\n",
    "    print(f\"GPU Available: {torch.cuda.get_device_name(0)}\")\n",
    "    print(f\"GPU Memory: {torch.cuda.get_device_properties(0).total_memory / 1024**3:.2f} GB\")\n",
    "    print(f\"CUDA Version: {torch.version.cuda}\")\n",
    "else:\n",
    "    print(\"WARNING: No GPU detected! This notebook requires a GPU.\")\n",
    "    \n",
    "# Set device\n",
    "device = torch.device(\"cuda\" if torch.cuda.is_available() else \"cpu\")\n",
    "print(f\"Using device: {device}\")\n"
   ]
  },
  {
   "cell_type": "raw",
   "metadata": {
    "vscode": {
     "languageId": "raw"
    }
   },
   "source": [
    "## 2. Load and Preprocess Dataset\n",
    "\n",
    "We'll load the MedQuAD.csv dataset and format it for instruction-following fine-tuning.\n"
   ]
  },
  {
   "cell_type": "code",
   "execution_count": null,
   "id": "64b471d6",
   "metadata": {},
   "outputs": [],
   "source": [
    "# Load the dataset\n",
    "df = pd.read_csv('medquad.csv')\n",
    "\n",
    "# Display basic information about the dataset\n",
    "print(f\"Dataset shape: {df.shape}\")\n",
    "print(f\"Columns: {df.columns.tolist()}\")\n",
    "print(\"\\nFirst 3 rows:\")\n",
    "print(df.head(3))\n",
    "\n",
    "# Check for missing values\n",
    "print(\"\\nMissing values:\")\n",
    "print(df.isnull().sum())\n",
    "\n",
    "# Explore source and focus_area columns for potential filtering\n",
    "print(\"\\nUnique sources:\")\n",
    "print(df['source'].value_counts())\n",
    "print(\"\\nUnique focus areas:\")\n",
    "print(df['focus_area'].value_counts())\n"
   ]
  },
  {
   "cell_type": "code",
   "execution_count": null,
   "id": "184dcb42",
   "metadata": {},
   "outputs": [],
   "source": [
    "# Format the dataset for instruction-following\n",
    "def format_instruction(row):\n",
    "    \"\"\"Format question and answer into instruction-response format for MedGemma\"\"\"\n",
    "    instruction = f\"Instruction: {row['question']}\\nResponse: {row['answer']}\"\n",
    "    return instruction\n",
    "\n",
    "# Create formatted dataset\n",
    "df['text'] = df.apply(format_instruction, axis=1)\n",
    "\n",
    "# Sample the dataset to fit within memory constraints (1000 examples as requested)\n",
    "df_sample = df.sample(n=min(1000, len(df)), random_state=42)\n",
    "print(f\"Using {len(df_sample)} examples for fine-tuning\")\n",
    "\n",
    "# Display a sample formatted text\n",
    "print(\"\\nSample formatted text:\")\n",
    "print(df_sample['text'].iloc[0][:500] + \"...\")\n"
   ]
  },
  {
   "cell_type": "raw",
   "metadata": {
    "vscode": {
     "languageId": "raw"
    }
   },
   "source": [
    "## 3. Configure Model with 4-bit Quantization\n",
    "\n",
    "We'll load MedGemma 4B with 4-bit quantization to optimize memory usage on the RTX 4090.\n"
   ]
  },
  {
   "cell_type": "code",
   "execution_count": null,
   "id": "51374b4f",
   "metadata": {},
   "outputs": [],
   "source": [
    "# Model ID\n",
    "model_id = \"google/medgemma-4b-multimodal\"\n",
    "\n",
    "# Configure 4-bit quantization\n",
    "bnb_config = BitsAndBytesConfig(\n",
    "    load_in_4bit=True,\n",
    "    bnb_4bit_use_double_quant=True,\n",
    "    bnb_4bit_quant_type=\"nf4\",\n",
    "    bnb_4bit_compute_dtype=torch.bfloat16\n",
    ")\n",
    "\n",
    "# Load tokenizer\n",
    "tokenizer = AutoTokenizer.from_pretrained(model_id)\n",
    "tokenizer.pad_token = tokenizer.eos_token\n",
    "tokenizer.padding_side = \"right\"\n",
    "\n",
    "# Load model with quantization\n",
    "# Note: If model loading fails due to access restrictions, you may need to:\n",
    "# 1. Accept the model's license agreement on HuggingFace\n",
    "# 2. Use your HuggingFace token: from huggingface_hub import login; login()\n",
    "print(\"Loading model with 4-bit quantization...\")\n",
    "model = AutoModelForCausalLM.from_pretrained(\n",
    "    model_id,\n",
    "    quantization_config=bnb_config,\n",
    "    device_map=\"auto\",\n",
    "    trust_remote_code=True,\n",
    "    torch_dtype=torch.bfloat16,\n",
    ")\n",
    "\n",
    "# Check memory usage\n",
    "if torch.cuda.is_available():\n",
    "    print(f\"GPU memory allocated: {torch.cuda.memory_allocated() / 1024**3:.2f} GB\")\n",
    "    print(f\"GPU memory reserved: {torch.cuda.memory_reserved() / 1024**3:.2f} GB\")\n"
   ]
  },
  {
   "cell_type": "raw",
   "metadata": {
    "vscode": {
     "languageId": "raw"
    }
   },
   "source": [
    "## 4. Configure LoRA\n",
    "\n",
    "We'll set up LoRA (Low-Rank Adaptation) with the specified parameters to enable efficient fine-tuning.\n"
   ]
  },
  {
   "cell_type": "code",
   "execution_count": null,
   "id": "a845f2b4",
   "metadata": {},
   "outputs": [],
   "source": [
    "# Configure LoRA\n",
    "lora_config = LoraConfig(\n",
    "    r=16,  # Rank\n",
    "    lora_alpha=32,  # Alpha parameter for LoRA scaling\n",
    "    lora_dropout=0.05,  # Dropout probability\n",
    "    bias=\"none\",\n",
    "    task_type=TaskType.CAUSAL_LM,\n",
    "    target_modules=[\"q_proj\", \"v_proj\"],  # Target attention modules\n",
    "    # Note: If these modules don't exist in MedGemma, the model will automatically\n",
    "    # find suitable modules. Common alternatives include:\n",
    "    # [\"qkv_proj\", \"o_proj\"] or [\"query\", \"value\"] or [\"attention\"]\n",
    ")\n",
    "\n",
    "# Enable gradient checkpointing to save memory\n",
    "model.gradient_checkpointing_enable()\n",
    "\n",
    "# Prepare model for k-bit training\n",
    "from peft import prepare_model_for_kbit_training\n",
    "model = prepare_model_for_kbit_training(model)\n",
    "\n",
    "# Get PEFT model\n",
    "model = get_peft_model(model, lora_config)\n",
    "\n",
    "# Print trainable parameters\n",
    "trainable_params = sum(p.numel() for p in model.parameters() if p.requires_grad)\n",
    "all_params = sum(p.numel() for p in model.parameters())\n",
    "print(f\"Trainable parameters: {trainable_params:,} ({100 * trainable_params / all_params:.2f}%)\")\n",
    "print(f\"All parameters: {all_params:,}\")\n"
   ]
  },
  {
   "cell_type": "raw",
   "metadata": {
    "vscode": {
     "languageId": "raw"
    }
   },
   "source": [
    "## 5. Prepare Dataset for Training\n",
    "\n",
    "We'll tokenize the dataset and prepare it for training with the model's tokenizer.\n"
   ]
  },
  {
   "cell_type": "code",
   "execution_count": null,
   "id": "f7ebb19d",
   "metadata": {},
   "outputs": [],
   "source": [
    "# Convert to HuggingFace Dataset\n",
    "dataset = Dataset.from_pandas(df_sample[['text']])\n",
    "\n",
    "# Define a preprocessing function\n",
    "def preprocess_function(examples):\n",
    "    \"\"\"Tokenize the texts\"\"\"\n",
    "    # Add end-of-sequence token to ensure proper generation stopping\n",
    "    texts = [text + tokenizer.eos_token for text in examples['text']]\n",
    "    \n",
    "    # Tokenize with truncation and padding\n",
    "    model_inputs = tokenizer(\n",
    "        texts,\n",
    "        truncation=True,\n",
    "        padding=True,\n",
    "        max_length=512,  # Adjust based on your GPU memory\n",
    "        return_tensors=\"pt\"\n",
    "    )\n",
    "    \n",
    "    # Set labels same as input_ids for causal language modeling\n",
    "    model_inputs[\"labels\"] = model_inputs[\"input_ids\"].clone()\n",
    "    \n",
    "    return model_inputs\n",
    "\n",
    "# Note: We'll let the SFTTrainer handle tokenization for better efficiency\n",
    "print(f\"Dataset prepared with {len(dataset)} examples\")\n"
   ]
  },
  {
   "cell_type": "raw",
   "metadata": {
    "vscode": {
     "languageId": "raw"
    }
   },
   "source": [
    "## 6. Configure Training Parameters\n",
    "\n",
    "We'll set up the training parameters optimized for the RTX 4090's 24GB VRAM.\n"
   ]
  },
  {
   "cell_type": "code",
   "execution_count": null,
   "id": "042f7063",
   "metadata": {},
   "outputs": [],
   "source": [
    "# Training arguments\n",
    "training_args = TrainingArguments(\n",
    "    output_dir=\"./results\",\n",
    "    num_train_epochs=1,\n",
    "    per_device_train_batch_size=4,\n",
    "    gradient_accumulation_steps=4,\n",
    "    optim=\"paged_adamw_32bit\",\n",
    "    save_steps=100,\n",
    "    logging_steps=25,\n",
    "    learning_rate=2e-5,\n",
    "    weight_decay=0.001,\n",
    "    bf16=True,\n",
    "    max_grad_norm=0.3,\n",
    "    max_steps=-1,\n",
    "    warmup_ratio=0.03,\n",
    "    group_by_length=True,\n",
    "    lr_scheduler_type=\"constant\",\n",
    "    report_to=\"tensorboard\",\n",
    "    save_total_limit=2,\n",
    "    dataloader_pin_memory=False,\n",
    "    remove_unused_columns=False,\n",
    ")\n",
    "\n",
    "print(\"Training arguments configured:\")\n",
    "print(f\"Batch size: {training_args.per_device_train_batch_size}\")\n",
    "print(f\"Gradient accumulation steps: {training_args.gradient_accumulation_steps}\")\n",
    "print(f\"Effective batch size: {training_args.per_device_train_batch_size * training_args.gradient_accumulation_steps}\")\n",
    "print(f\"Learning rate: {training_args.learning_rate}\")\n",
    "print(f\"Number of epochs: {training_args.num_train_epochs}\")\n",
    "print(f\"Mixed precision: BF16 = {training_args.bf16}\")\n"
   ]
  },
  {
   "cell_type": "raw",
   "metadata": {
    "vscode": {
     "languageId": "raw"
    }
   },
   "source": [
    "## 7. Initialize SFTTrainer and Start Training\n",
    "\n",
    "We'll use the TRL library's SFTTrainer for supervised fine-tuning.\n"
   ]
  },
  {
   "cell_type": "code",
   "execution_count": null,
   "id": "9efd17eb",
   "metadata": {},
   "outputs": [],
   "source": [
    "# Initialize the SFTTrainer\n",
    "trainer = SFTTrainer(\n",
    "    model=model,\n",
    "    train_dataset=dataset,\n",
    "    peft_config=lora_config,\n",
    "    dataset_text_field=\"text\",\n",
    "    max_seq_length=512,\n",
    "    tokenizer=tokenizer,\n",
    "    args=training_args,\n",
    "    packing=False,\n",
    ")\n",
    "\n",
    "# Check memory before training\n",
    "if torch.cuda.is_available():\n",
    "    print(f\"GPU memory before training:\")\n",
    "    print(f\"  Allocated: {torch.cuda.memory_allocated() / 1024**3:.2f} GB\")\n",
    "    print(f\"  Reserved: {torch.cuda.memory_reserved() / 1024**3:.2f} GB\")\n",
    "    print(f\"  Available: {(torch.cuda.get_device_properties(0).total_memory - torch.cuda.memory_reserved()) / 1024**3:.2f} GB\")\n",
    "\n",
    "print(\"\\nStarting training...\")\n",
    "print(\"Note: Training will take some time. Monitor GPU memory usage with 'nvidia-smi' in another terminal.\")\n"
   ]
  },
  {
   "cell_type": "code",
   "execution_count": null,
   "id": "86bce828",
   "metadata": {},
   "outputs": [],
   "source": [
    "# Start training\n",
    "try:\n",
    "    trainer.train()\n",
    "    print(\"Training completed successfully!\")\n",
    "except Exception as e:\n",
    "    print(f\"Training failed with error: {e}\")\n",
    "    print(\"This might be due to:\")\n",
    "    print(\"1. Insufficient GPU memory - try reducing batch_size or max_seq_length\")\n",
    "    print(\"2. Model access issues - ensure you have access to the MedGemma model\")\n",
    "    print(\"3. CUDA compatibility issues - check your PyTorch and CUDA versions\")\n",
    "    \n",
    "# Check memory after training\n",
    "if torch.cuda.is_available():\n",
    "    print(f\"\\nGPU memory after training:\")\n",
    "    print(f\"  Allocated: {torch.cuda.memory_allocated() / 1024**3:.2f} GB\")\n",
    "    print(f\"  Reserved: {torch.cuda.memory_reserved() / 1024**3:.2f} GB\")\n"
   ]
  },
  {
   "cell_type": "raw",
   "metadata": {
    "vscode": {
     "languageId": "raw"
    }
   },
   "source": [
    "## 8. Save the Fine-tuned Model\n",
    "\n",
    "We'll save the LoRA adapters and the complete fine-tuned model.\n"
   ]
  },
  {
   "cell_type": "code",
   "execution_count": null,
   "id": "3e378d1d",
   "metadata": {},
   "outputs": [],
   "source": [
    "# Save the fine-tuned model\n",
    "output_dir = \"./finetuned_medgemma_4b\"\n",
    "\n",
    "# Save the LoRA adapters\n",
    "model.save_pretrained(output_dir)\n",
    "tokenizer.save_pretrained(output_dir)\n",
    "\n",
    "print(f\"Fine-tuned model saved to: {output_dir}\")\n",
    "print(\"Contents:\")\n",
    "for file in os.listdir(output_dir):\n",
    "    print(f\"  - {file}\")\n",
    "\n",
    "# Save training arguments for reference\n",
    "import json\n",
    "training_config = {\n",
    "    \"model_id\": model_id,\n",
    "    \"lora_config\": {\n",
    "        \"r\": lora_config.r,\n",
    "        \"lora_alpha\": lora_config.lora_alpha,\n",
    "        \"lora_dropout\": lora_config.lora_dropout,\n",
    "        \"target_modules\": lora_config.target_modules,\n",
    "    },\n",
    "    \"training_args\": {\n",
    "        \"learning_rate\": training_args.learning_rate,\n",
    "        \"num_train_epochs\": training_args.num_train_epochs,\n",
    "        \"per_device_train_batch_size\": training_args.per_device_train_batch_size,\n",
    "        \"gradient_accumulation_steps\": training_args.gradient_accumulation_steps,\n",
    "    },\n",
    "    \"dataset_size\": len(dataset),\n",
    "}\n",
    "\n",
    "with open(os.path.join(output_dir, \"training_config.json\"), \"w\") as f:\n",
    "    json.dump(training_config, f, indent=2)\n",
    "\n",
    "print(\"\\nTraining configuration saved to training_config.json\")\n"
   ]
  },
  {
   "cell_type": "raw",
   "metadata": {
    "vscode": {
     "languageId": "raw"
    }
   },
   "source": [
    "## 9. Test the Fine-tuned Model\n",
    "\n",
    "Let's test the fine-tuned model by running inference on a sample question from the dataset.\n"
   ]
  },
  {
   "cell_type": "code",
   "execution_count": null,
   "id": "10d26458",
   "metadata": {},
   "outputs": [],
   "source": [
    "# Clear GPU memory\n",
    "torch.cuda.empty_cache()\n",
    "\n",
    "# Load the fine-tuned model for inference\n",
    "print(\"Loading fine-tuned model for inference...\")\n",
    "\n",
    "# Load base model with quantization\n",
    "base_model = AutoModelForCausalLM.from_pretrained(\n",
    "    model_id,\n",
    "    quantization_config=bnb_config,\n",
    "    device_map=\"auto\",\n",
    "    trust_remote_code=True,\n",
    "    torch_dtype=torch.bfloat16,\n",
    ")\n",
    "\n",
    "# Load the fine-tuned LoRA adapters\n",
    "finetuned_model = PeftModel.from_pretrained(base_model, output_dir)\n",
    "\n",
    "# Set model to evaluation mode\n",
    "finetuned_model.eval()\n",
    "\n",
    "print(\"Fine-tuned model loaded successfully!\")\n"
   ]
  },
  {
   "cell_type": "code",
   "execution_count": null,
   "id": "7ae7e144",
   "metadata": {},
   "outputs": [],
   "source": [
    "# Test with a sample question\n",
    "sample_question = df_sample['question'].iloc[0]\n",
    "print(f\"Sample Question: {sample_question}\")\n",
    "print(\"\\n\" + \"=\"*50)\n",
    "\n",
    "# Format the input\n",
    "test_input = f\"Instruction: {sample_question}\\nResponse:\"\n",
    "\n",
    "# Tokenize the input\n",
    "inputs = tokenizer(test_input, return_tensors=\"pt\").to(device)\n",
    "\n",
    "# Generate response\n",
    "print(\"Generating response...\")\n",
    "with torch.no_grad():\n",
    "    outputs = finetuned_model.generate(\n",
    "        **inputs,\n",
    "        max_new_tokens=256,\n",
    "        do_sample=True,\n",
    "        temperature=0.7,\n",
    "        top_p=0.9,\n",
    "        pad_token_id=tokenizer.eos_token_id,\n",
    "        eos_token_id=tokenizer.eos_token_id,\n",
    "    )\n",
    "\n",
    "# Decode the response\n",
    "response = tokenizer.decode(outputs[0], skip_special_tokens=True)\n",
    "\n",
    "# Extract only the generated part (after \"Response:\")\n",
    "if \"Response:\" in response:\n",
    "    generated_response = response.split(\"Response:\")[-1].strip()\n",
    "else:\n",
    "    generated_response = response\n",
    "\n",
    "print(f\"Generated Response: {generated_response}\")\n",
    "print(\"\\n\" + \"=\"*50)\n",
    "\n",
    "# Compare with original answer\n",
    "original_answer = df_sample[df_sample['question'] == sample_question]['answer'].iloc[0]\n",
    "print(f\"Original Answer: {original_answer}\")\n"
   ]
  },
  {
   "cell_type": "raw",
   "metadata": {
    "vscode": {
     "languageId": "raw"
    }
   },
   "source": [
    "## 10. Memory Usage Monitoring\n",
    "\n",
    "Let's check the final GPU memory usage and provide optimization suggestions.\n"
   ]
  },
  {
   "cell_type": "code",
   "execution_count": null,
   "id": "2315ebb9",
   "metadata": {},
   "outputs": [],
   "source": [
    "# Check final GPU memory usage\n",
    "if torch.cuda.is_available():\n",
    "    allocated = torch.cuda.memory_allocated() / 1024**3\n",
    "    reserved = torch.cuda.memory_reserved() / 1024**3\n",
    "    total = torch.cuda.get_device_properties(0).total_memory / 1024**3\n",
    "    \n",
    "    print(\"Final GPU Memory Usage:\")\n",
    "    print(f\"  Allocated: {allocated:.2f} GB\")\n",
    "    print(f\"  Reserved: {reserved:.2f} GB\")\n",
    "    print(f\"  Total GPU Memory: {total:.2f} GB\")\n",
    "    print(f\"  Memory Utilization: {(reserved/total)*100:.1f}%\")\n",
    "    \n",
    "    # Provide optimization suggestions\n",
    "    print(\"\\nMemory Optimization Suggestions:\")\n",
    "    if reserved > 20:  # If using more than 20GB\n",
    "        print(\"⚠️  High memory usage detected (>20GB). Consider:\")\n",
    "        print(\"   - Reducing batch_size from 4 to 2\")\n",
    "        print(\"   - Reducing max_seq_length from 512 to 256\")\n",
    "        print(\"   - Using gradient_accumulation_steps=8 to maintain effective batch size\")\n",
    "    elif reserved > 15:\n",
    "        print(\"⚡ Good memory usage (15-20GB). Current settings are optimal.\")\n",
    "    else:\n",
    "        print(\"✅ Low memory usage (<15GB). You could:\")\n",
    "        print(\"   - Increase batch_size to 8 for faster training\")\n",
    "        print(\"   - Increase max_seq_length to 1024 for longer sequences\")\n",
    "        print(\"   - Use a larger dataset sample\")\n",
    "        \n",
    "    # Run nvidia-smi equivalent\n",
    "    print(\"\\nFor real-time monitoring, run this command in terminal:\")\n",
    "    print(\"nvidia-smi -l 1\")\n",
    "    \n",
    "else:\n",
    "    print(\"No GPU detected. This notebook requires a CUDA-capable GPU.\")\n"
   ]
  },
  {
   "cell_type": "raw",
   "metadata": {
    "vscode": {
     "languageId": "raw"
    }
   },
   "source": [
    "## 11. Additional Testing and Usage\n",
    "\n",
    "Here are some additional functions for testing the model with custom questions.\n"
   ]
  },
  {
   "cell_type": "code",
   "execution_count": null,
   "id": "12c4d0a9",
   "metadata": {},
   "outputs": [],
   "source": [
    "def generate_medical_response(question, model=finetuned_model, tokenizer=tokenizer, max_length=256):\n",
    "    \"\"\"\n",
    "    Generate a medical response for a given question using the fine-tuned model.\n",
    "    \n",
    "    Args:\n",
    "        question (str): The medical question to answer\n",
    "        model: The fine-tuned model\n",
    "        tokenizer: The tokenizer\n",
    "        max_length (int): Maximum length of the response\n",
    "    \n",
    "    Returns:\n",
    "        str: Generated medical response\n",
    "    \"\"\"\n",
    "    # Format the input\n",
    "    test_input = f\"Instruction: {question}\\nResponse:\"\n",
    "    \n",
    "    # Tokenize\n",
    "    inputs = tokenizer(test_input, return_tensors=\"pt\").to(device)\n",
    "    \n",
    "    # Generate\n",
    "    with torch.no_grad():\n",
    "        outputs = model.generate(\n",
    "            **inputs,\n",
    "            max_new_tokens=max_length,\n",
    "            do_sample=True,\n",
    "            temperature=0.7,\n",
    "            top_p=0.9,\n",
    "            pad_token_id=tokenizer.eos_token_id,\n",
    "            eos_token_id=tokenizer.eos_token_id,\n",
    "        )\n",
    "    \n",
    "    # Decode and extract response\n",
    "    response = tokenizer.decode(outputs[0], skip_special_tokens=True)\n",
    "    if \"Response:\" in response:\n",
    "        generated_response = response.split(\"Response:\")[-1].strip()\n",
    "    else:\n",
    "        generated_response = response\n",
    "    \n",
    "    return generated_response\n",
    "\n",
    "# Test with a few custom questions\n",
    "test_questions = [\n",
    "    \"What are the symptoms of diabetes?\",\n",
    "    \"How is hypertension treated?\",\n",
    "    \"What causes heart disease?\",\n",
    "]\n",
    "\n",
    "print(\"Testing with custom questions:\")\n",
    "print(\"=\"*60)\n",
    "\n",
    "for i, question in enumerate(test_questions, 1):\n",
    "    print(f\"\\nTest {i}:\")\n",
    "    print(f\"Question: {question}\")\n",
    "    response = generate_medical_response(question)\n",
    "    print(f\"Response: {response}\")\n",
    "    print(\"-\" * 40)\n"
   ]
  },
  {
   "cell_type": "raw",
   "metadata": {
    "vscode": {
     "languageId": "raw"
    }
   },
   "source": [
    "## 12. Summary and Next Steps\n",
    "\n",
    "### What We Accomplished:\n",
    "1. ✅ Set up the environment with all required libraries\n",
    "2. ✅ Loaded and preprocessed the MedQuAD dataset\n",
    "3. ✅ Configured MedGemma 4B with 4-bit quantization for memory efficiency\n",
    "4. ✅ Set up LoRA fine-tuning with optimal parameters\n",
    "5. ✅ Trained the model for 1 epoch on 1000 samples\n",
    "6. ✅ Saved the fine-tuned model and LoRA adapters\n",
    "7. ✅ Tested the model with sample questions\n",
    "8. ✅ Monitored memory usage and provided optimization suggestions\n",
    "\n",
    "### Key Configuration:\n",
    "- **Model**: MedGemma 4B Multimodal with 4-bit quantization\n",
    "- **LoRA Parameters**: r=16, alpha=32, dropout=0.05\n",
    "- **Training**: Batch size=4, Gradient accumulation=4, BF16 precision\n",
    "- **Dataset**: 1000 samples from MedQuAD (instruction-response format)\n",
    "- **Memory Usage**: Optimized for RTX 4090 24GB VRAM\n",
    "\n",
    "### Next Steps:\n",
    "1. **Scale Up**: Train on the full MedQuAD dataset if memory allows\n",
    "2. **Evaluate**: Use medical QA benchmarks to assess performance\n",
    "3. **Fine-tune Further**: Adjust hyperparameters based on validation results\n",
    "4. **Deploy**: Create a simple interface for medical question answering\n",
    "5. **Safety**: Add medical disclaimer and safety checks for production use\n",
    "\n",
    "### Important Notes:\n",
    "- This model is for educational/research purposes only\n",
    "- Medical advice should always be verified by healthcare professionals\n",
    "- Consider adding evaluation metrics and validation sets for production use\n",
    "- Monitor for potential biases in medical responses\n",
    "\n",
    "### Troubleshooting:\n",
    "- If OOM errors occur, reduce `batch_size` or `max_seq_length`\n",
    "- If model access fails, ensure HuggingFace authentication\n",
    "- For better performance, consider using the full dataset and multiple epochs\n"
   ]
  }
 ],
 "metadata": {
  "language_info": {
   "name": "python"
  }
 },
 "nbformat": 4,
 "nbformat_minor": 5
}
